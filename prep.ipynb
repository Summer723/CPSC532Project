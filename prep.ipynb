{
 "cells": [
  {
   "cell_type": "code",
   "execution_count": null,
   "id": "e2950d1c-78e8-4b00-a59c-ee1a33a7bb4d",
   "metadata": {},
   "outputs": [],
   "source": [
    "import torch\n",
    "import pandas as pd\n",
    "import matplotlib.pyplot as plt\n",
    "import seaborn \n",
    "import numpy as np\n",
    "from itertools import product\n",
    "import torch.nn \n",
    "from torch.optim import Adam, LBFGS, SGD\n",
    "import re\n",
    "import heapq as hq"
   ]
  },
  {
   "cell_type": "code",
   "execution_count": null,
   "id": "12ac35db-afea-4982-92ad-250d584be144",
   "metadata": {},
   "outputs": [],
   "source": [
    "# your path to the data\n",
    "dataset = pd.read_csv(\"/Users/summer/Desktop/CPSC532Project/novozymes-enzyme-stability-prediction/train.csv\")\n",
    "dataset"
   ]
  },
  {
   "cell_type": "code",
   "execution_count": null,
   "id": "9d1af66a-0407-47a0-86e4-217afab5087e",
   "metadata": {},
   "outputs": [],
   "source": [
    "# do not need seq_id and data_source\n",
    "dataset.drop('seq_id',inplace= True, axis = 1)\n",
    "dataset.drop('data_source',inplace= True, axis = 1)"
   ]
  },
  {
   "cell_type": "code",
   "execution_count": null,
   "id": "96973fee-9e67-4abf-bb8c-5fcb71229548",
   "metadata": {},
   "outputs": [],
   "source": [
    "# unigram and bigram\n",
    "Aminoacids = ['A', 'R', 'N','D','C', 'E', 'Q', 'G', 'H', 'I', 'L', 'K', 'M', 'F', 'P', 'S', 'T', 'W', 'Y', 'V']\n",
    "Blocks = []\n",
    "\n",
    "maxSize = 3\n",
    "for k in range(1,maxSize):    \n",
    "    Blocks.append([''.join(i) for i in product(Aminoacids, repeat = k)])\n",
    "\n",
    "\n",
    "for i in Aminoacids:\n",
    "    dataset[i] = dataset['protein_sequence'].str.count(i, re.I)\n",
    "    \n",
    "for i in Blocks[1]:\n",
    "    dataset[i] = dataset['protein_sequence'].str.count(i, re.I)"
   ]
  },
  {
   "cell_type": "code",
   "execution_count": null,
   "id": "48c9a9cd-5968-4ca9-ba39-4ff30d65338c",
   "metadata": {},
   "outputs": [],
   "source": [
    "# take a look at dataset statas\n",
    "dataset.describe()"
   ]
  },
  {
   "cell_type": "code",
   "execution_count": null,
   "id": "2fe4e085-a46b-47f1-ac92-491a8ec44d7c",
   "metadata": {},
   "outputs": [],
   "source": [
    "# only take data with reasonable features\n",
    "dataset = dataset.loc[dataset[\"pH\"] <= 14]"
   ]
  },
  {
   "cell_type": "code",
   "execution_count": null,
   "id": "8630023e-355c-41e6-aed0-4fd2dec3075e",
   "metadata": {},
   "outputs": [],
   "source": [
    "# shuffle the data and make it training set and testing set\n",
    "shuffled_dataset = dataset.sample(frac = 1)\n",
    "cutoff = int(0.8 * len(shuffled_dataset))\n",
    "training_set = shuffled_dataset.iloc[:cutoff]\n",
    "testing_set = shuffled_dataset.iloc[cutoff:]"
   ]
  },
  {
   "cell_type": "code",
   "execution_count": null,
   "id": "9d54c387-78bf-4960-a585-cc779a125aad",
   "metadata": {},
   "outputs": [],
   "source": [
    "training_set"
   ]
  },
  {
   "cell_type": "code",
   "execution_count": null,
   "id": "1190b5f4-cee0-45a2-b753-bfe360a6f573",
   "metadata": {},
   "outputs": [],
   "source": [
    "testing_set"
   ]
  },
  {
   "cell_type": "code",
   "execution_count": null,
   "id": "fd7a92ba-8e96-4252-b19c-05fd6a7296a2",
   "metadata": {},
   "outputs": [],
   "source": [
    "training_labels = training_set['tm']\n",
    "testing_labels = testing_set['tm']"
   ]
  },
  {
   "cell_type": "code",
   "execution_count": null,
   "id": "c989d1f3-64ea-418a-97ff-5d664b754556",
   "metadata": {},
   "outputs": [],
   "source": [
    "testing_set.drop(\"tm\", inplace = True, axis = 1)\n",
    "training_set.drop(\"tm\", inplace = True, axis = 1)"
   ]
  },
  {
   "cell_type": "code",
   "execution_count": null,
   "id": "709fde64-cf59-4f2b-8a4a-54f06ba5f37b",
   "metadata": {},
   "outputs": [],
   "source": [
    "testing_set"
   ]
  },
  {
   "cell_type": "code",
   "execution_count": null,
   "id": "58d14733-a16a-4e89-b315-bd49dd3d6f50",
   "metadata": {},
   "outputs": [],
   "source": [
    "testing_labels = torch.tensor(testing_labels.values.astype(np.float32))\n",
    "training_labels = torch.tensor(training_labels.values.astype(np.float32))"
   ]
  },
  {
   "cell_type": "code",
   "execution_count": null,
   "id": "cb14fd5b-1232-441b-9d6d-219952a6b295",
   "metadata": {},
   "outputs": [],
   "source": [
    "training_set.drop(\"protein_sequence\", inplace = True, axis = 1)\n",
    "testing_set.drop(\"protein_sequence\", inplace = True, axis = 1)"
   ]
  },
  {
   "cell_type": "code",
   "execution_count": null,
   "id": "0b5f007d-974f-48a8-828e-5922345d785b",
   "metadata": {},
   "outputs": [],
   "source": [
    "x_data = torch.tensor(training_set.values.astype(np.float32))\n",
    "test_data = torch.tensor(testing_set.values.astype(np.float32))"
   ]
  },
  {
   "cell_type": "markdown",
   "id": "a236dcc3-e29f-4b7a-a0b2-37bccf3938f7",
   "metadata": {},
   "source": [
    "# Linear regression"
   ]
  },
  {
   "cell_type": "code",
   "execution_count": null,
   "id": "59857637-00f0-443a-801a-ed62686c4870",
   "metadata": {},
   "outputs": [],
   "source": [
    "y_data = training_labels\n",
    "\n",
    "x = x_data\n",
    "y = y_data"
   ]
  },
  {
   "cell_type": "code",
   "execution_count": null,
   "id": "50b3ea08-5030-4b5c-a9ab-3f8a461d16b2",
   "metadata": {},
   "outputs": [],
   "source": [
    "X = torch.cat((x, torch.ones(x.size()[0],1)), 1)\n",
    "\n",
    "A = torch.inverse(torch.mm(X.t(), X))\n",
    "W = torch.mv(torch.mm(A, X.t()), y)\n",
    "\n",
    "print(X)\n",
    "print(W)"
   ]
  },
  {
   "cell_type": "code",
   "execution_count": null,
   "id": "bb886bc8-1e44-4da5-97e8-9d1a0090edaa",
   "metadata": {},
   "outputs": [],
   "source": [
    "test_w_bias = torch.cat((test_data, torch.ones(test_data.size()[0],1)), 1)\n"
   ]
  },
  {
   "cell_type": "code",
   "execution_count": null,
   "id": "03a514d4-dffb-4a09-a981-43b03cfa23e7",
   "metadata": {},
   "outputs": [],
   "source": [
    "yhat = torch.matmul(test_w_bias, W)\n",
    "print(yhat)\n",
    "print(testing_labels)\n",
    "print(sum((yhat-testing_labels)**2)/len(yhat))\n",
    "print(((yhat-testing_labels)**2))"
   ]
  },
  {
   "cell_type": "markdown",
   "id": "ed83fc7b-6314-4dd3-b102-98623f68b44c",
   "metadata": {},
   "source": [
    "### Linear regression with L1 reg"
   ]
  },
  {
   "cell_type": "code",
   "execution_count": null,
   "id": "68c977a0-81d4-4ade-b5a6-05deb53cbcb6",
   "metadata": {},
   "outputs": [],
   "source": [
    "from sklearn import linear_model\n",
    "reg = linear_model.Lasso(alpha=0.1)\n",
    "reg.fit(X, y_data)\n",
    "\n",
    "reg.predict(test_w_bias)"
   ]
  },
  {
   "cell_type": "code",
   "execution_count": null,
   "id": "2a280761-5abf-44aa-b4af-9791ff17d44d",
   "metadata": {},
   "outputs": [],
   "source": [
    "def KNN(training, testing, measure, *args):\n",
    "    dictionary = []\n",
    "    for j  in range(len(testing)):\n",
    "        h = []\n",
    "        print(j)\n",
    "        for i in range(len(training)):\n",
    "            distance = measure(testing[i], training[i])\n",
    "            if len(h) == 0:\n",
    "                heapq.heappush(h, (distance, i))\n",
    "            if distance < h[0][0]:\n",
    "                if len(h) > args[0]:\n",
    "                    heapq.heappop(h)\n",
    "                    heapq.heappush(h,(distance, i))\n",
    "                else:\n",
    "                    heapq.heappush(h,(distance, i))\n",
    "        dictionary[j] = h\n",
    "    return dictionary"
   ]
  },
  {
   "cell_type": "code",
   "execution_count": null,
   "id": "43b79781-d718-47cc-9e0e-02f9b6a55358",
   "metadata": {},
   "outputs": [],
   "source": [
    "def min_distance( word1, word2) -> int:\n",
    "    n, m = len(word1), len(word2)\n",
    "\n",
    "    dp = [[0] * (m + 1) for _ in range(n + 1)]\n",
    "\n",
    "    for i in range (n+1):\n",
    "        dp[i][0] = i\n",
    "\n",
    "    for i in range(m+1):\n",
    "        dp[0][i] = i\n",
    "\n",
    "    for i in range (0, n ):\n",
    "        for j in range (0, m ):\n",
    "            if word1[i] == word2[j]:\n",
    "                dp[i+1][j+1] = dp[i][j]\n",
    "            else:\n",
    "                dp[i+1][j+1] = min(dp[i][j] + 1, dp[i][j+1] + 1, dp[i+1][j] + 1)\n",
    "\n",
    "\n",
    "    return dp[-1][-1]"
   ]
  },
  {
   "cell_type": "code",
   "execution_count": null,
   "id": "bbc6a67c-6bc9-4786-9f80-a1a5fdc62770",
   "metadata": {},
   "outputs": [],
   "source": [
    "# Linear regression/ with l1 reg / with l2 reg/ l1 l2 reg\n",
    "# sklearn pytorch "
   ]
  },
  {
   "cell_type": "code",
   "execution_count": null,
   "id": "cbf7b11b-b69e-49a6-83fa-c7ef9e37f08c",
   "metadata": {},
   "outputs": [],
   "source": [
    "# KNN (k value/ (elbow's methods), sample rate, stochastic KNN = sampling?)"
   ]
  }
 ],
 "metadata": {
  "kernelspec": {
   "display_name": "Python 3 (ipykernel)",
   "language": "python",
   "name": "python3"
  },
  "language_info": {
   "codemirror_mode": {
    "name": "ipython",
    "version": 3
   },
   "file_extension": ".py",
   "mimetype": "text/x-python",
   "name": "python",
   "nbconvert_exporter": "python",
   "pygments_lexer": "ipython3",
   "version": "3.10.0"
  }
 },
 "nbformat": 4,
 "nbformat_minor": 5
}
